{
  "nbformat": 4,
  "nbformat_minor": 0,
  "metadata": {
    "colab": {
      "name": "train.ipynb",
      "provenance": [],
      "collapsed_sections": []
    },
    "kernelspec": {
      "name": "python3",
      "display_name": "Python 3"
    },
    "language_info": {
      "name": "python"
    }
  },
  "cells": [
    {
      "cell_type": "code",
      "source": [
        "%cd /content/drive/MyDrive/job/recommender_models/components/lightgbm_ranker"
      ],
      "metadata": {
        "colab": {
          "base_uri": "https://localhost:8080/"
        },
        "id": "jpP-lxra5b9P",
        "outputId": "978b752b-5008-4718-d16d-d880dad04ff6"
      },
      "execution_count": 2,
      "outputs": [
        {
          "output_type": "stream",
          "name": "stdout",
          "text": [
            "/content/drive/MyDrive/job/recommender_models/components/lightgbm_ranker\n"
          ]
        }
      ]
    },
    {
      "cell_type": "code",
      "execution_count": 20,
      "metadata": {
        "id": "VSLfAwZ_bP9U"
      },
      "outputs": [],
      "source": [
        "import pickle\n",
        "import pandas as pd\n",
        "import numpy as np\n",
        "import lightgbm as lgb"
      ]
    },
    {
      "cell_type": "code",
      "source": [
        "train_data_path = '../../data/train.pkl'\n",
        "valid_data_path = '../../data/valid.pkl'\n",
        "data_file_format = \"pickle\"\n",
        "feature_cols = ['price', 'sales_channel_id']\n",
        "sample_weight_col = 'buy'\n",
        "target_col = 'buy'\n",
        "group_record_cols = ['customer_id']\n",
        "eval_metric='ndcg'\n",
        "eval_at=2\n",
        "model_output_path='./model.pkl'"
      ],
      "metadata": {
        "id": "CPb3hWKY-GPe"
      },
      "execution_count": 22,
      "outputs": []
    },
    {
      "cell_type": "code",
      "source": [
        "if data_file_format == \"csv\":\n",
        "  train = pd.read_csv(train_data_path)\n",
        "  valid = pd.read_csv(valid_data_path)  \n",
        "elif data_file_format == \"parquet\":\n",
        "  train = pd.read_parquet(train_data_path)\n",
        "  valid = pd.read_parquet(valid_data_path)  \n",
        "elif data_file_format == \"pickle\":\n",
        "  train = pd.read_pickle(train_data_path)\n",
        "  valid = pd.read_pickle(valid_data_path)\n",
        "else:\n",
        "  train = pd.read_csv(train_data_path)\n",
        "  valid = pd.read_csv(valid_data_path)\n",
        "\n",
        "train = train.sort_values(group_record_cols)\n",
        "valid = valid.sort_values(group_record_cols)\n",
        "train_group=train.groupby(group_record_cols)[group_record_cols[0]].count().to_numpy()\n",
        "valid_group=valid.groupby(group_record_cols)[group_record_cols[0]].count().to_numpy()"
      ],
      "metadata": {
        "id": "GzpZhCZ85QBK"
      },
      "execution_count": 7,
      "outputs": []
    },
    {
      "cell_type": "code",
      "source": [
        "model = lgb.LGBMRanker(\n",
        "    objective=\"lambdarank\",\n",
        "    boosting_type='gbdt', \n",
        "    metric=eval_metric,\n",
        "    num_leaves=2**7-1,\n",
        "    max_depth=7, \n",
        "    learning_rate=0.1, \n",
        "    n_estimators=100,\n",
        "    early_stopping_rounds=10,\n",
        "    random_state=42,\n",
        ")"
      ],
      "metadata": {
        "id": "5a855T9B-B7n"
      },
      "execution_count": 12,
      "outputs": []
    },
    {
      "cell_type": "code",
      "source": [
        "model.fit(\n",
        "    X=train[feature_cols],\n",
        "    y=train[target_col],\n",
        "    sample_weight=train[sample_weight_col],\n",
        "    group=train_group,\n",
        "    eval_set=[(valid[feature_cols], valid[target_col])],\n",
        "    eval_names=['valid'],\n",
        "    eval_sample_weight=[valid[sample_weight_col]],\n",
        "    eval_at=eval_at,\n",
        "    eval_group=[valid_group],\n",
        "    )"
      ],
      "metadata": {
        "id": "TrPr-Xhe-lpl"
      },
      "execution_count": null,
      "outputs": []
    },
    {
      "cell_type": "code",
      "source": [
        "with open(model_output_path, 'wb') as f:\n",
        "  pickle.dump(model, f)"
      ],
      "metadata": {
        "id": "0UkCeRwx_XDv"
      },
      "execution_count": 25,
      "outputs": []
    }
  ]
}