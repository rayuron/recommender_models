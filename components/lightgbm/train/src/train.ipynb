{
  "cells": [
    {
      "cell_type": "code",
      "execution_count": 2,
      "metadata": {
        "colab": {
          "base_uri": "https://localhost:8080/"
        },
        "id": "jpP-lxra5b9P",
        "outputId": "2a77e862-7a1c-4e41-d0f0-5e3ad1e30598"
      },
      "outputs": [
        {
          "name": "stdout",
          "output_type": "stream",
          "text": [
            "/content/drive/MyDrive/job/recommender_models/components/lightgbm_ranker\n"
          ]
        }
      ],
      "source": [
        "%cd /content/drive/MyDrive/job/recommender_models/components/lightgbm_ranker"
      ]
    },
    {
      "cell_type": "code",
      "execution_count": 3,
      "metadata": {
        "id": "VSLfAwZ_bP9U"
      },
      "outputs": [],
      "source": [
        "import pandas as pd\n",
        "import numpy as np\n",
        "from datetime import datetime\n",
        "import lightgbm as lgb"
      ]
    },
    {
      "cell_type": "code",
      "execution_count": 108,
      "metadata": {
        "id": "CPb3hWKY-GPe"
      },
      "outputs": [],
      "source": [
        "train_data_path = '../../data/train.pkl'\n",
        "valid_data_path = '../../data/valid.pkl'\n",
        "feature_cols = ['price', 'sales_channel_id']\n",
        "sample_weight_col = 'buy'\n",
        "target_col = 'buy'\n",
        "index_cols = ['customer_id']"
      ]
    },
    {
      "cell_type": "code",
      "execution_count": 121,
      "metadata": {
        "id": "GzpZhCZ85QBK"
      },
      "outputs": [],
      "source": [
        "train = pd.read_pickle(train_data_path)\n",
        "valid = pd.read_pickle(valid_data_path)\n",
        "train_group=train.groupby(index_cols)[index_cols[0]].count().to_numpy()\n",
        "valid_group=valid.groupby(index_cols)[index_cols[0]].count().to_numpy()\n",
        "sample_weight=train[sample_weight_col]"
      ]
    },
    {
      "cell_type": "code",
      "execution_count": 122,
      "metadata": {
        "id": "VNu-Itl1Cdve"
      },
      "outputs": [],
      "source": [
        "params = {\n",
        "    'objective': \"lambdarank\",\n",
        "    'boosting_type': \"gbdt\",\n",
        "    'metric': \"ndcg\",\n",
        "    'num_leaves': 2**7-1,\n",
        "    'max_depth': 7,\n",
        "    'num_boost_round': 100,\n",
        "    'early_stopping_rounds': 10,\n",
        "    'verbosity': 10,\n",
        "    'random_state': 42,\n",
        "}"
      ]
    },
    {
      "cell_type": "code",
      "execution_count": 134,
      "metadata": {
        "id": "5a855T9B-B7n"
      },
      "outputs": [],
      "source": [
        "model = lgb.LGBMRanker(\n",
        "    objective=\"lambdarank\",\n",
        "    boosting_type='gbdt', \n",
        "    metric='ndcg',\n",
        "    num_leaves=2**7-1,\n",
        "    max_depth=7, \n",
        "    learning_rate=0.1, \n",
        "    n_estimators=100,\n",
        "    early_stopping_rounds=10,\n",
        "    random_state=42,\n",
        ")"
      ]
    },
    {
      "cell_type": "code",
      "execution_count": 136,
      "metadata": {
        "colab": {
          "base_uri": "https://localhost:8080/"
        },
        "id": "TrPr-Xhe-lpl",
        "outputId": "585bad31-0f04-49af-fea3-b9f6be688413"
      },
      "outputs": [
        {
          "name": "stderr",
          "output_type": "stream",
          "text": [
            "/usr/local/lib/python3.7/dist-packages/lightgbm/engine.py:123: UserWarning: Found `early_stopping_rounds` in params. Will use it instead of argument\n",
            "  warnings.warn(\"Found `{}` in params. Will use it instead of argument\".format(alias))\n"
          ]
        },
        {
          "name": "stdout",
          "output_type": "stream",
          "text": [
            "[1]\tvalid's ndcg@1: 0.699045\n",
            "Training until validation scores don't improve for 10 rounds.\n",
            "[2]\tvalid's ndcg@1: 0.699045\n",
            "[3]\tvalid's ndcg@1: 0.699045\n",
            "[4]\tvalid's ndcg@1: 0.699045\n",
            "[5]\tvalid's ndcg@1: 0.699045\n",
            "[6]\tvalid's ndcg@1: 0.699045\n",
            "[7]\tvalid's ndcg@1: 0.699045\n",
            "[8]\tvalid's ndcg@1: 0.699045\n",
            "[9]\tvalid's ndcg@1: 0.699045\n",
            "[10]\tvalid's ndcg@1: 0.699045\n",
            "[11]\tvalid's ndcg@1: 0.699045\n",
            "Early stopping, best iteration is:\n",
            "[1]\tvalid's ndcg@1: 0.699045\n"
          ]
        },
        {
          "data": {
            "text/plain": [
              "LGBMRanker(early_stopping_rounds=10, eval_at=2, max_depth=7, metric='ndcg',\n",
              "           num_leaves=127, objective='lambdarank', random_state=42)"
            ]
          },
          "execution_count": 136,
          "metadata": {},
          "output_type": "execute_result"
        }
      ],
      "source": [
        "model.fit(\n",
        "    X=train[feature_cols],\n",
        "    y=train[target_col],\n",
        "    sample_weight=sample_weight,\n",
        "    group=train_group,\n",
        "    eval_set=[(valid[feature_cols], valid[target_col])],\n",
        "    eval_names=['valid'],\n",
        "    eval_at=2,\n",
        "    eval_group=[valid_group],\n",
        "    )"
      ]
    },
    {
      "cell_type": "code",
      "execution_count": 82,
      "metadata": {
        "colab": {
          "base_uri": "https://localhost:8080/"
        },
        "id": "mrB2qt1Y-n_w",
        "outputId": "b86a195e-dc1f-4f36-a99c-cf31f109c128"
      },
      "outputs": [
        {
          "data": {
            "text/plain": [
              "defaultdict(dict, {'valid': {'ndcg@2': 0.7517626488567579}})"
            ]
          },
          "execution_count": 82,
          "metadata": {},
          "output_type": "execute_result"
        }
      ],
      "source": [
        "model.best_score_"
      ]
    },
    {
      "cell_type": "code",
      "execution_count": 53,
      "metadata": {
        "colab": {
          "base_uri": "https://localhost:8080/"
        },
        "id": "Cojlh9H2_RrH",
        "outputId": "deefb8b6-e729-4dab-f107-084d7f1ca9f6"
      },
      "outputs": [
        {
          "data": {
            "text/plain": [
              "(798269, 6)"
            ]
          },
          "execution_count": 53,
          "metadata": {},
          "output_type": "execute_result"
        }
      ],
      "source": [
        "print(1)"
      ]
    },
    {
      "cell_type": "code",
      "execution_count": 71,
      "metadata": {
        "id": "OInJ0srx_UI-"
      },
      "outputs": [],
      "source": []
    },
    {
      "cell_type": "code",
      "execution_count": 72,
      "metadata": {
        "id": "0UkCeRwx_XDv"
      },
      "outputs": [],
      "source": []
    },
    {
      "cell_type": "code",
      "execution_count": null,
      "metadata": {
        "id": "SPJrAjoB_Y1x"
      },
      "outputs": [],
      "source": []
    }
  ],
  "metadata": {
    "colab": {
      "collapsed_sections": [],
      "name": "train.ipynb",
      "provenance": []
    },
    "kernelspec": {
      "display_name": "Python 3",
      "name": "python3"
    },
    "language_info": {
      "name": "python"
    }
  },
  "nbformat": 4,
  "nbformat_minor": 0
}
